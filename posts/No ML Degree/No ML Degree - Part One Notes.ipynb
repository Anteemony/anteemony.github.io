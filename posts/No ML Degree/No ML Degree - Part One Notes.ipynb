{
 "cells": [
  {
   "cell_type": "markdown",
   "id": "10e5bb0a-2156-4585-a890-091158af99a6",
   "metadata": {},
   "source": [
    "*Notes from the book No ML Degree by Emil Wallner*\n",
    "\n",
    "*The guide provided is for self-learners looking for their first ML job. But is also valuable for recent graduates and ML practitioners who want to stay up to date as ML evolves.*\n",
    "\n",
    "Here's what the career journey of a self-learner can look like.\n",
    "\n",
    "* Learning Software engineering (internship)\n",
    "* Building an ML portfolio (entry-level ML role at a small company)\n",
    "* Part-time ML portoflio building (junior ML role at a mid-sized company)\n",
    "* FAANG / Unicorn company interview prep (ML engineer at a known tech company)\n",
    "  \n",
    "# Part One: Programming"
   ]
  },
  {
   "cell_type": "markdown",
   "id": "7fac9fcb-ccd5-4451-a21d-31201ca9b05c",
   "metadata": {},
   "source": [
    "Software is the majority of modern machine learning. Although many are eager to head straight into ML, it's often far wiser to begin the journey with software engineering."
   ]
  },
  {
   "cell_type": "markdown",
   "id": "9324aa64-c5f1-4749-a997-0c98b602decc",
   "metadata": {},
   "source": [
    "##  Programming Paths \n",
    "Regardless of which programming path you choose, aim for at least 6 - 24 months of study and work experience in order to get a good foundation\n",
    "\n",
    "### No-degree Tech Schools and Online Courses\n",
    "\n",
    "* Codeacademy\n",
    "* Scrimba\n",
    "* freeCodeCamp\n",
    "* 42 network (peer-to-peer)\n",
    "* Holberton School (an alternative to 42 network)\n",
    "\n",
    "### Boot Camps\n",
    "* High Ranking Boot Camps\n",
    "\n",
    "### Computer Science\n",
    "90% of today's models are trained and deployed on servers. Most of the work is focused on making the data, training and production process faster by improving efficiency and organization.\n",
    "\n",
    "A practical CS curriculum with a focus on projects and programming is a solid base. Specializations include security, DevOps, back-end, and graphics.\n",
    "Work with Python as you'll mostly be working with it when you move into ML.\n",
    "\n",
    "### Front-end and Mobile \n",
    "Less common entries into ML, but still with benefits. e.g. cost, latency and privacy benefits to running ML models on personal computers and phones. Client inference and optimization are valid entry-points into ML. Although only 10% of the ML inference happens on the client today, it is expected to increase in the near future.\n",
    "\n",
    "The major shifts in the client-side are:\n",
    "* Human-in-the-loop\n",
    "* Prompt engineering\n",
    "* Active learning\n",
    "* Creating smaller intermediate models, workflows and programs to interact with server-side models is important.\n",
    "* It's worth looking into Neural Radience Fields and Browser Rendering.\n",
    "\n",
    "On the tech side, look into\n",
    "* TensorflowJS,\n",
    "* ONNX.JS\n",
    "* Eigen (C++) compiled with Web Assembly\n",
    "* PyScript"
   ]
  },
  {
   "cell_type": "markdown",
   "id": "a765dd02-517f-431c-9c87-bc6640b00bb7",
   "metadata": {},
   "source": [
    "# Part One: Programming - Action Steps\n",
    "This part emphaises the importance of starting out with programming when coming into the world of ML. Have you already completed this path? Are you currently on this path? If you have not began, what path do you wish to follow?\n",
    "\n",
    "* No-degree Tech Schools and Online Courses\n",
    "* Boot Camps\n",
    "* Computer Science\n",
    "* Front-end and Mobile"
   ]
  }
 ],
 "metadata": {
  "kernelspec": {
   "display_name": "Python 3 (ipykernel)",
   "language": "python",
   "name": "python3"
  },
  "language_info": {
   "codemirror_mode": {
    "name": "ipython",
    "version": 3
   },
   "file_extension": ".py",
   "mimetype": "text/x-python",
   "name": "python",
   "nbconvert_exporter": "python",
   "pygments_lexer": "ipython3",
   "version": "3.10.12"
  }
 },
 "nbformat": 4,
 "nbformat_minor": 5
}
