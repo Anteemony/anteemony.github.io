{
 "cells": [
  {
   "cell_type": "markdown",
   "id": "3ab7598b-0f13-4ff7-a2a6-0e61a212eb18",
   "metadata": {},
   "source": [
    "*Notes from the book No ML Degree by Emil Wallner*\n",
    "\n",
    "*The guide provided is for self-learners looking for their first ML job. But is also valuable for recent graduates and ML practitioners who want to stay up to date as ML evolves.*\n",
    "\n",
    "Here's what the career journey of a self-learner can look like.\n",
    "\n",
    "* Learning Software engineering (internship)\n",
    "* Building an ML portfolio (entry-level ML role at a small company)\n",
    "* Part-time ML portoflio building (junior ML role at a mid-sized company)\n",
    "* FAANG / Unicorn company interview prep (ML engineer at a known tech company)"
   ]
  },
  {
   "cell_type": "markdown",
   "id": "0cc57dea-faf6-461f-b349-4537bf0ac3dc",
   "metadata": {},
   "source": [
    "# Introduction\n",
    "\n",
    "## The Recipe To Fail\n",
    "\n",
    "#### Effective self-learning mimics what ML professionals do on a daily basis.\n",
    "\n",
    "As a self learner, do not do the opposite of this. Do not get stuck in long lists of online courses and certifications.\n",
    "\n",
    "Online courses have a small impact on employment attractiveness. Same with certifications as there is no way to tell if you really worked for it or cheated.\n",
    "\n",
    "The problem with certifications also applies to portfolios. Many applicants copy-paste or tweak existing projects so it's hard to tell the difference between real and low-effort projects.\n",
    "\n",
    "***For companies, it's too risky to advance candidates without evidence of being hireable.***\n",
    "\n",
    "Popular positions are your first option, but you are not their first. With hundereds or even thousands of applicants per position, the resume lotteries favour the university graduates.\n",
    "\n",
    "This rejection makes self learners lose motivation and confidence. They begin to feel overwhelmed with all that's to be learned in order to get a job.\n",
    "\n",
    "There are far better ways to land an ML job.\n",
    "\n",
    "# Becoming Hireable\n",
    "\n",
    "If you don't have a traditional degree for your learning, you need to use your knowledge to compete for employment attractiveness. \n",
    "\n",
    "Self-learners have to compete for either of these scarce resources\n",
    "* **Time** (ML professionals risk their time by validating your work)\n",
    "* **Reputation** (ML professionals risk their reputation by validating your work)\n",
    "* **Attention** ( A company publishing your paper risks their brand )\n",
    "* **Money** ( A person risks their money when they pay you for your work )\n",
    "\n",
    "When you compete for something scarce, you need the following qualities\n",
    "* **Trust**\n",
    "* **Hard Work**\n",
    "* **Talent**\n",
    " \n",
    "That's what employers are looking for.\n",
    "\n",
    "#### The hard part of the ML self-learning path is not how to gain knowledge but how to create industry credibility\n",
    "\n",
    "Remember, For companies, it is too risky to advance candidates without evidence of being hireable. \n",
    "\n",
    "A portfolio is a collection of evidence that ML professionals and institutions have traded *someting scarce* for your talent and hard work (qualities).\n",
    "\n",
    "The portfolio could include \n",
    "* Work Experience,\n",
    "* Open-source Contributions, or\n",
    "* Beating established benchmarks.\n",
    "\n",
    "They show that you have obtained something rare and valuable.\n",
    "\n",
    "\n"
   ]
  }
 ],
 "metadata": {
  "kernelspec": {
   "display_name": "Python 3 (ipykernel)",
   "language": "python",
   "name": "python3"
  },
  "language_info": {
   "codemirror_mode": {
    "name": "ipython",
    "version": 3
   },
   "file_extension": ".py",
   "mimetype": "text/x-python",
   "name": "python",
   "nbconvert_exporter": "python",
   "pygments_lexer": "ipython3",
   "version": "3.10.12"
  }
 },
 "nbformat": 4,
 "nbformat_minor": 5
}
